{
 "cells": [
  {
   "cell_type": "markdown",
   "metadata": {},
   "source": [
    "## Set up the DataFrame"
   ]
  },
  {
   "cell_type": "code",
   "execution_count": 106,
   "metadata": {},
   "outputs": [
    {
     "name": "stdout",
     "output_type": "stream",
     "text": [
      "   Country  Age  Salary Purchased\n",
      "0   France   44   72000        No\n",
      "1    Spain   27   48000       Yes\n",
      "2  Germany   30   54000        No\n",
      "3    Spain   38   61000        No\n",
      "4  Germany   40       0       Yes\n",
      "5   France   35   58000       Yes\n",
      "6    Spain    0   52000        No\n",
      "7   France   48   79000       Yes\n",
      "8  Germany   50   83000        No\n",
      "9   France   37   67000       Yes\n"
     ]
    }
   ],
   "source": [
    "import pandas as pd\n",
    "import numpy as np\n",
    "\n",
    "country = ['France', 'Spain', 'Germany', 'Spain', 'Germany', 'France', 'Spain', 'France', 'Germany', 'France']\n",
    "age = [44, 27, 30, 38, 40, 35, 0, 48, 50, 37]\n",
    "salary = [72000, 48000, 54000, 61000, 0, 58000, 52000, 79000, 83000, 67000]\n",
    "purchased = ['No', 'Yes', 'No', 'No', 'Yes', 'Yes', 'No', 'Yes', 'No', 'Yes']\n",
    "\n",
    "list_labels = ['Country', 'Age', 'Salary', 'Purchased']\n",
    "list_cols = [country, age, salary, purchased]\n",
    "\n",
    "zipped = list(zip(list_labels, list_cols))\n",
    "df = pd.DataFrame(dict(zipped))\n",
    "df.set_index('Country')\n",
    "print(df)\n"
   ]
  },
  {
   "cell_type": "markdown",
   "metadata": {},
   "source": [
    "## Import Label Encoder class"
   ]
  },
  {
   "cell_type": "code",
   "execution_count": 107,
   "metadata": {},
   "outputs": [
    {
     "name": "stdout",
     "output_type": "stream",
     "text": [
      "[0 2 1 2 1 0 2 0 1 0]\n",
      "[0 1 0 0 1 1 0 1 0 1]\n"
     ]
    }
   ],
   "source": [
    "from sklearn.preprocessing import LabelEncoder\n",
    "labelencoder = LabelEncoder()\n",
    "labelencode_index = labelencoder.fit_transform(df.iloc[:, 0])\n",
    "labelencode_purchased = labelencoder.fit_transform(df.iloc[:, 3])\n",
    "print(labelencode_index)\n",
    "print(labelencode_purchased)"
   ]
  },
  {
   "cell_type": "markdown",
   "metadata": {},
   "source": [
    "df is a dataframe and can't be accessed via slice terminology like `X[:, 3]`. You must access via `iloc` or `X.values`."
   ]
  },
  {
   "cell_type": "markdown",
   "metadata": {},
   "source": [
    "## Check the dataframe then"
   ]
  },
  {
   "cell_type": "code",
   "execution_count": 108,
   "metadata": {},
   "outputs": [
    {
     "name": "stdout",
     "output_type": "stream",
     "text": [
      "   Country  Age  Salary  Purchased\n",
      "0        0   44   72000          0\n",
      "1        2   27   48000          1\n",
      "2        1   30   54000          0\n",
      "3        2   38   61000          0\n",
      "4        1   40       0          1\n",
      "5        0   35   58000          1\n",
      "6        2    0   52000          0\n",
      "7        0   48   79000          1\n",
      "8        1   50   83000          0\n",
      "9        0   37   67000          1\n"
     ]
    }
   ],
   "source": [
    "df_labelencoder = df\n",
    "df_labelencoder.Country = labelencode_index\n",
    "df_labelencoder.Purchased = labelencode_purchased\n",
    "print(df_labelencoder)"
   ]
  },
  {
   "cell_type": "markdown",
   "metadata": {},
   "source": [
    "The problem here is, since there are different numbers in the same column, the model will <b>misunderstand the data to be in some kind of order, 0 < 1 < 2.</b> But this isn’t the case at all. To overcome this problem, we use `One Hot Encoder`."
   ]
  },
  {
   "cell_type": "markdown",
   "metadata": {},
   "source": [
    "## One Hot Encoder"
   ]
  },
  {
   "cell_type": "code",
   "execution_count": 109,
   "metadata": {
    "scrolled": false
   },
   "outputs": [],
   "source": [
    "from sklearn.preprocessing import OneHotEncoder\n",
    "onehotencoder = OneHotEncoder(categorical_features = [0])\n",
    "df.iloc[:, 3] = labelencode_purchased\n",
    "df = onehotencoder.fit_transform(df).toarray()\n"
   ]
  },
  {
   "cell_type": "code",
   "execution_count": 110,
   "metadata": {},
   "outputs": [
    {
     "name": "stdout",
     "output_type": "stream",
     "text": [
      "[[1.0e+00 0.0e+00 0.0e+00 4.4e+01 7.2e+04 0.0e+00]\n",
      " [0.0e+00 0.0e+00 1.0e+00 2.7e+01 4.8e+04 1.0e+00]\n",
      " [0.0e+00 1.0e+00 0.0e+00 3.0e+01 5.4e+04 0.0e+00]\n",
      " [0.0e+00 0.0e+00 1.0e+00 3.8e+01 6.1e+04 0.0e+00]\n",
      " [0.0e+00 1.0e+00 0.0e+00 4.0e+01 0.0e+00 1.0e+00]\n",
      " [1.0e+00 0.0e+00 0.0e+00 3.5e+01 5.8e+04 1.0e+00]\n",
      " [0.0e+00 0.0e+00 1.0e+00 0.0e+00 5.2e+04 0.0e+00]\n",
      " [1.0e+00 0.0e+00 0.0e+00 4.8e+01 7.9e+04 1.0e+00]\n",
      " [0.0e+00 1.0e+00 0.0e+00 5.0e+01 8.3e+04 0.0e+00]\n",
      " [1.0e+00 0.0e+00 0.0e+00 3.7e+01 6.7e+04 1.0e+00]]\n"
     ]
    }
   ],
   "source": [
    "print(df)"
   ]
  }
 ],
 "metadata": {
  "kernelspec": {
   "display_name": "Python 3",
   "language": "python",
   "name": "python3"
  },
  "language_info": {
   "codemirror_mode": {
    "name": "ipython",
    "version": 3
   },
   "file_extension": ".py",
   "mimetype": "text/x-python",
   "name": "python",
   "nbconvert_exporter": "python",
   "pygments_lexer": "ipython3",
   "version": "3.6.5"
  }
 },
 "nbformat": 4,
 "nbformat_minor": 2
}
